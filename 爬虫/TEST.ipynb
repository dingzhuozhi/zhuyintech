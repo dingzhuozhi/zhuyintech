{
 "cells": [
  {
   "cell_type": "code",
   "execution_count": 4,
   "metadata": {
    "collapsed": true,
    "pycharm": {
     "name": "#%%\n"
    }
   },
   "outputs": [
    {
     "data": {
      "text/plain": "                                              speech     starttime  \\\n0  Well, Steve, I think you can see from the SEP ...  1.442487e+09   \n1   Four participants moved their projections int...  1.442487e+09   \n2   And, of course, there will always be uncertai...  1.442487e+09   \n3   We can’t expect that uncertainty to be fully ...  1.442487e+09   \n4   We’ve had some further developments—namely, l...  1.442487e+09   \n\n   statestart      overtime  stateover  final  finalover  \n0         1.0  1.442487e+09        3.0    2.0        4.0  \n1         2.0  1.442487e+09        3.0    1.0        3.0  \n2         2.0  1.442487e+09        3.0    1.0        3.0  \n3         2.0  1.442487e+09        3.0    1.0        3.0  \n4         1.0  1.442487e+09        3.0    2.0        4.0  ",
      "text/html": "<div>\n<style scoped>\n    .dataframe tbody tr th:only-of-type {\n        vertical-align: middle;\n    }\n\n    .dataframe tbody tr th {\n        vertical-align: top;\n    }\n\n    .dataframe thead th {\n        text-align: right;\n    }\n</style>\n<table border=\"1\" class=\"dataframe\">\n  <thead>\n    <tr style=\"text-align: right;\">\n      <th></th>\n      <th>speech</th>\n      <th>starttime</th>\n      <th>statestart</th>\n      <th>overtime</th>\n      <th>stateover</th>\n      <th>final</th>\n      <th>finalover</th>\n    </tr>\n  </thead>\n  <tbody>\n    <tr>\n      <th>0</th>\n      <td>Well, Steve, I think you can see from the SEP ...</td>\n      <td>1.442487e+09</td>\n      <td>1.0</td>\n      <td>1.442487e+09</td>\n      <td>3.0</td>\n      <td>2.0</td>\n      <td>4.0</td>\n    </tr>\n    <tr>\n      <th>1</th>\n      <td>Four participants moved their projections int...</td>\n      <td>1.442487e+09</td>\n      <td>2.0</td>\n      <td>1.442487e+09</td>\n      <td>3.0</td>\n      <td>1.0</td>\n      <td>3.0</td>\n    </tr>\n    <tr>\n      <th>2</th>\n      <td>And, of course, there will always be uncertai...</td>\n      <td>1.442487e+09</td>\n      <td>2.0</td>\n      <td>1.442487e+09</td>\n      <td>3.0</td>\n      <td>1.0</td>\n      <td>3.0</td>\n    </tr>\n    <tr>\n      <th>3</th>\n      <td>We can’t expect that uncertainty to be fully ...</td>\n      <td>1.442487e+09</td>\n      <td>2.0</td>\n      <td>1.442487e+09</td>\n      <td>3.0</td>\n      <td>1.0</td>\n      <td>3.0</td>\n    </tr>\n    <tr>\n      <th>4</th>\n      <td>We’ve had some further developments—namely, l...</td>\n      <td>1.442487e+09</td>\n      <td>1.0</td>\n      <td>1.442487e+09</td>\n      <td>3.0</td>\n      <td>2.0</td>\n      <td>4.0</td>\n    </tr>\n  </tbody>\n</table>\n</div>"
     },
     "execution_count": 4,
     "metadata": {},
     "output_type": "execute_result"
    }
   ],
   "source": [
    "import pandas as pd\n",
    "df=pd.read_csv(\"D:\\pachong\\新建文件夹\\FOMC时间匹配\\FOMC2018-12-19.csv\")\n",
    "df.head()"
   ]
  },
  {
   "cell_type": "code",
   "execution_count": 5,
   "outputs": [
    {
     "name": "stdout",
     "output_type": "stream",
     "text": [
      "time.struct_time(tm_year=2015, tm_mon=9, tm_mday=17, tm_hour=18, tm_min=45, tm_sec=59, tm_wday=3, tm_yday=260, tm_isdst=0)\n"
     ]
    }
   ],
   "source": [
    "import time\n",
    "print(time.localtime(df[\"starttime\"][0]))"
   ],
   "metadata": {
    "collapsed": false,
    "pycharm": {
     "name": "#%%\n"
    }
   }
  },
  {
   "cell_type": "code",
   "execution_count": null,
   "outputs": [],
   "source": [],
   "metadata": {
    "collapsed": false,
    "pycharm": {
     "name": "#%%\n"
    }
   }
  }
 ],
 "metadata": {
  "kernelspec": {
   "display_name": "Python 3",
   "language": "python",
   "name": "python3"
  },
  "language_info": {
   "codemirror_mode": {
    "name": "ipython",
    "version": 2
   },
   "file_extension": ".py",
   "mimetype": "text/x-python",
   "name": "python",
   "nbconvert_exporter": "python",
   "pygments_lexer": "ipython2",
   "version": "2.7.6"
  }
 },
 "nbformat": 4,
 "nbformat_minor": 0
}