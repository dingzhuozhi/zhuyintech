{
 "cells": [
  {
   "cell_type": "markdown",
   "source": [],
   "metadata": {
    "collapsed": false,
    "pycharm": {
     "name": "#%% md\n"
    }
   }
  },
  {
   "cell_type": "code",
   "execution_count": 134,
   "outputs": [
    {
     "name": "stdout",
     "output_type": "stream",
     "text": [
      "2014-12-18 03:30:00\n",
      "D:\\pachong\\fomc新闻发布会字幕\\[English] FOMC Press Conference December 17, 2014 [DownSub.com].srt\n",
      "2014-06-19 02:30:00\n",
      "D:\\pachong\\fomc新闻发布会字幕\\[English] FOMC Press Conference June 18, 2014 [DownSub.com].srt\n",
      "2014-03-20 02:30:00\n",
      "D:\\pachong\\fomc新闻发布会字幕\\[English] FOMC Press Conference March 19, 2014 [DownSub.com].srt\n",
      "2014-09-18 02:30:00\n",
      "D:\\pachong\\fomc新闻发布会字幕\\[English] FOMC Press Conference September 17, 2014 [DownSub.com].srt\n",
      "2015-12-17 03:30:00\n",
      "D:\\pachong\\fomc新闻发布会字幕\\[English] FOMC Press Conference December 16, 2015 [DownSub.com].srt\n",
      "2014-06-19 02:30:00\n",
      "D:\\pachong\\fomc新闻发布会字幕\\[English] FOMC Press Conference June 17, 2015 [DownSub.com].srt\n",
      "2015-03-19 02:30:00\n",
      "D:\\pachong\\fomc新闻发布会字幕\\[English] FOMC Press Conference March 18, 2015 [DownSub.com].srt\n",
      "2015-09-18 02:30:00\n",
      "D:\\pachong\\fomc新闻发布会字幕\\[English] FOMC Press Conference September 17, 2015 [DownSub.com].srt\n",
      "2016-12-15 03:30:00\n",
      "D:\\pachong\\fomc新闻发布会字幕\\[English (auto-generated)] FOMC Press Conference December 14, 2016 [DownSub.com].srt\n",
      "2016-06-16 02:30:00\n",
      "D:\\pachong\\fomc新闻发布会字幕\\[English] FOMC Press Conference June 15, 2016 [DownSub.com].srt\n",
      "2016-03-17 02:30:00\n",
      "D:\\pachong\\fomc新闻发布会字幕\\[English] FOMC Press Conference March 16, 2016 [DownSub.com].srt\n",
      "2016-09-22 02:30:00\n",
      "D:\\pachong\\fomc新闻发布会字幕\\[English] FOMC Press Conference September 21, 2016 [DownSub.com].srt\n",
      "2017-09-21 02:30:00\n",
      "D:\\pachong\\fomc新闻发布会字幕\\[English (auto-generated)] FOMC Press Conference September 20, 2017 [DownSub.com].srt\n",
      "2017-12-14 03:30:00\n",
      "D:\\pachong\\fomc新闻发布会字幕\\[English] FOMC Press Conference December 13, 2017 [DownSub.com].srt\n",
      "2017-06-15 02:30:00\n",
      "D:\\pachong\\fomc新闻发布会字幕\\[English] FOMC Press Conference June 14, 2017 [DownSub.com].srt\n",
      "2017-03-16 02:30:00\n",
      "D:\\pachong\\fomc新闻发布会字幕\\[English] FOMC Press Conference March 15, 2017 [DownSub.com].srt\n",
      "2018-12-20 03:30:00\n",
      "D:\\pachong\\fomc新闻发布会字幕\\[English] FOMC Press Conference December 19, 2018 [DownSub.com].srt\n",
      "2018-06-14 02:30:00\n",
      "D:\\pachong\\fomc新闻发布会字幕\\[English] FOMC Press Conference June 13, 2018 [DownSub.com].srt\n",
      "2018-03-22 02:30:00\n",
      "D:\\pachong\\fomc新闻发布会字幕\\[English] FOMC Press Conference March 21, 2018 [DownSub.com].srt\n",
      "2018-09-27 02:30:00\n",
      "D:\\pachong\\fomc新闻发布会字幕\\[English] FOMC Press Conference September 26, 2018 [DownSub.com].srt\n",
      "2019-12-12 03:30:00\n",
      "D:\\pachong\\fomc新闻发布会字幕\\[English] FOMC Press Conference December 11, 2019 [DownSub.com].srt\n",
      "2019-01-31 03:30:00\n",
      "D:\\pachong\\fomc新闻发布会字幕\\[English] FOMC Press Conference January 30, 2019 [DownSub.com].srt\n",
      "2019-08-01 02:30:00\n",
      "D:\\pachong\\fomc新闻发布会字幕\\[English] FOMC Press Conference July 31, 2019 [DownSub.com].srt\n",
      "2019-06-20 02:30:00\n",
      "D:\\pachong\\fomc新闻发布会字幕\\[English] FOMC Press Conference June 19, 2019 [DownSub.com].srt\n",
      "2019-03-21 02:30:00\n",
      "D:\\pachong\\fomc新闻发布会字幕\\[English] FOMC Press Conference March 20, 2019 [DownSub.com].srt\n",
      "2019-05-02 02:30:00\n",
      "D:\\pachong\\fomc新闻发布会字幕\\[English] FOMC Press Conference May 1, 2019 [DownSub.com].srt\n",
      "2019-10-31 02:30:00\n",
      "D:\\pachong\\fomc新闻发布会字幕\\[English] FOMC Press Conference October 30, 2019 [DownSub.com].srt\n",
      "2019-09-19 02:30:00\n",
      "D:\\pachong\\fomc新闻发布会字幕\\[English] FOMC Press Conference September 18, 2019 [DownSub.com].srt\n",
      "2020-07-30 02:30:00\n",
      "D:\\pachong\\fomc新闻发布会字幕\\[English (auto-generated)] FOMC Press Conference July 29, 2020 [DownSub.com].srt\n",
      "2020-06-11 02:30:00\n",
      "D:\\pachong\\fomc新闻发布会字幕\\[English (auto-generated)] FOMC Press Conference June 10, 2020 [DownSub.com].srt\n",
      "2020-09-17 02:30:00\n",
      "D:\\pachong\\fomc新闻发布会字幕\\[English (auto-generated)] FOMC Press Conference September 16, 2020 [DownSub.com].srt\n",
      "2020-12-17 03:30:00\n",
      "D:\\pachong\\fomc新闻发布会字幕\\[English (auto-generated)] FOMC Press Conference, December 16, 2020 [DownSub.com].srt\n",
      "2020-11-06 03:30:00\n",
      "D:\\pachong\\fomc新闻发布会字幕\\[English (auto-generated)] FOMC Press Conference, November 5, 2020 [DownSub.com].srt\n",
      "2020-04-30 02:30:00\n",
      "D:\\pachong\\fomc新闻发布会字幕\\[English] FOMC Press Conference April 29, 2020 [DownSub.com].srt\n",
      "2020-01-30 03:30:00\n",
      "D:\\pachong\\fomc新闻发布会字幕\\[English] FOMC Press Conference January 29, 2020 [DownSub.com].srt\n",
      "2020-03-03 23:30:00\n",
      "D:\\pachong\\fomc新闻发布会字幕\\[English] FOMC Press Conference March 3, 2020 [DownSub.com].srt\n",
      "2021-12-16 03:30:00\n",
      "D:\\pachong\\fomc新闻发布会字幕\\[English (auto-generated)] FOMC Press Conference December 15, 2021 [DownSub.com].srt\n",
      "2021-04-29 02:30:00\n",
      "D:\\pachong\\fomc新闻发布会字幕\\[English (auto-generated)] FOMC Press Conference, April 28, 2021 [DownSub.com].srt\n",
      "2021-07-29 02:30:00\n",
      "D:\\pachong\\fomc新闻发布会字幕\\[English (auto-generated)] FOMC Press Conference, July 28, 2021 [DownSub.com].srt\n",
      "2021-06-17 02:30:00\n",
      "D:\\pachong\\fomc新闻发布会字幕\\[English (auto-generated)] FOMC Press Conference, June 16, 2021 [DownSub.com].srt\n",
      "2021-03-18 02:30:00\n",
      "D:\\pachong\\fomc新闻发布会字幕\\[English (auto-generated)] FOMC Press Conference, March 17, 2021 [DownSub.com].srt\n",
      "2021-11-04 02:30:00\n",
      "D:\\pachong\\fomc新闻发布会字幕\\[English (auto-generated)] FOMC press conference, November 3, 2021 [DownSub.com].srt\n",
      "2021-09-23 02:30:00\n",
      "D:\\pachong\\fomc新闻发布会字幕\\[English (auto-generated)] FOMC Press Conference, September 22, 2021 [DownSub.com].srt\n",
      "2022-09-22 02:30:00\n",
      "D:\\pachong\\fomc新闻发布会字幕\\[English (auto-generated)] FOMC Press Conference September 21, 2022 [DownSub.com].srt\n",
      "2022-01-27 03:30:00\n",
      "D:\\pachong\\fomc新闻发布会字幕\\[English (auto-generated)] FOMC Press Conference, January 26, 2022 [DownSub.com].srt\n",
      "2022-07-28 02:30:00\n",
      "D:\\pachong\\fomc新闻发布会字幕\\[English (auto-generated)] FOMC Press Conference, July 27, 2022 [DownSub.com].srt\n",
      "2022-06-16 02:30:00\n",
      "D:\\pachong\\fomc新闻发布会字幕\\[English (auto-generated)] FOMC Press Conference, June 15, 2022 [DownSub.com].srt\n",
      "2022-03-17 02:30:00\n",
      "D:\\pachong\\fomc新闻发布会字幕\\[English (auto-generated)] FOMC Press Conference, March 16, 2022 [DownSub.com].srt\n",
      "2022-05-05 02:30:00\n",
      "D:\\pachong\\fomc新闻发布会字幕\\[English (auto-generated)] FOMC Press Conference, May 4, 2022 [DownSub.com].srt\n",
      "2022-11-03 02:30:00\n",
      "D:\\pachong\\fomc新闻发布会字幕\\[English (auto-generated)] FOMC Press Conference, November 2, 2022 [DownSub.com].srt\n"
     ]
    }
   ],
   "source": [
    "import numpy as np\n",
    "import pandas as pd\n",
    "import os\n",
    "import re\n",
    "import pysrt\n",
    "\n",
    "datetime_file=pd.read_csv(\"fomc字幕文件对应时间.csv\")\n",
    "start_list = []\n",
    "end_list = []\n",
    "sentence_list = []\n",
    "\n",
    "\n",
    "for start,file_name in zip(datetime_file[\"datetime\"].tolist(),datetime_file[\"subtitle_file_name\"].tolist()):\n",
    "    start = pd.to_datetime(start)\n",
    "    print(start)\n",
    "    file=r\"D:\\pachong\\fomc新闻发布会字幕\\{}\".format(file_name)\n",
    "    print(file)\n",
    "    subs=pysrt.open(file)\n",
    "    # parts = data.slice(starts_after={'minutes': 0, 'seconds': 0.000},\n",
    "    #                    ends_before={'minutes': 3000, 'seconds': 0.000})\n",
    "    for content in subs.data:\n",
    "        start_time = str(content.start)[:-4]\n",
    "        start_time=start + pd.to_timedelta(start_time)\n",
    "        start_list.append(start_time)\n",
    "        sentence_list.append(content.text)\n",
    "        end_time = str(content.end)[:-4]\n",
    "        end_time=start + pd.to_timedelta(end_time)\n",
    "        end_list.append(end_time)\n",
    "\n"
   ],
   "metadata": {
    "collapsed": false,
    "pycharm": {
     "name": "#%%\n"
    }
   }
  },
  {
   "cell_type": "code",
   "execution_count": 135,
   "outputs": [
    {
     "data": {
      "text/plain": "(61548, 61548, 61548)"
     },
     "execution_count": 135,
     "metadata": {},
     "output_type": "execute_result"
    }
   ],
   "source": [
    "len(start_list),len(end_list),len(sentence_list)"
   ],
   "metadata": {
    "collapsed": false,
    "pycharm": {
     "name": "#%%\n"
    }
   }
  }
 ],
 "metadata": {
  "kernelspec": {
   "display_name": "Python 3",
   "language": "python",
   "name": "python3"
  },
  "language_info": {
   "codemirror_mode": {
    "name": "ipython",
    "version": 2
   },
   "file_extension": ".py",
   "mimetype": "text/x-python",
   "name": "python",
   "nbconvert_exporter": "python",
   "pygments_lexer": "ipython2",
   "version": "2.7.6"
  }
 },
 "nbformat": 4,
 "nbformat_minor": 0
}