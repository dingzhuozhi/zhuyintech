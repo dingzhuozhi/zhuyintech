{
 "cells": [
  {
   "cell_type": "markdown",
   "source": [
    "将含有txt的文件统一导入csv中\n"
   ],
   "metadata": {
    "collapsed": false,
    "pycharm": {
     "name": "#%% md\n"
    }
   }
  },
  {
   "cell_type": "code",
   "execution_count": 44,
   "outputs": [],
   "source": [
    "import pandas as pd\n",
    "import numpy as np\n",
    "import os"
   ],
   "metadata": {
    "collapsed": false,
    "pycharm": {
     "name": "#%%\n"
    }
   }
  },
  {
   "cell_type": "code",
   "execution_count": 57,
   "outputs": [
    {
     "data": {
      "text/plain": "['RBNZ 201301.txt',\n 'RBNZ 201303.txt',\n 'RBNZ 201304.txt',\n 'RBNZ 201306.txt',\n 'RBNZ 201307.txt',\n 'RBNZ 201309.txt',\n 'RBNZ 201310.txt',\n 'RBNZ 201312.txt',\n 'RBNZ 201401.txt',\n 'RBNZ 201403.txt',\n 'RBNZ 201404.txt',\n 'RBNZ 201406.txt',\n 'RBNZ 201407.txt',\n 'RBNZ 201409.txt',\n 'RBNZ 201410.txt',\n 'RBNZ 201412.txt',\n 'RBNZ 201501.txt',\n 'RBNZ 201503.txt',\n 'RBNZ 201504.txt',\n 'RBNZ 201506.txt',\n 'RBNZ 201507.txt',\n 'RBNZ 201509.txt',\n 'RBNZ 201510.txt',\n 'RBNZ 201512.txt',\n 'RBNZ 201601.txt',\n 'RBNZ 201603.txt',\n 'RBNZ 201604.txt',\n 'RBNZ 201606.txt',\n 'RBNZ 201608.txt',\n 'RBNZ 201609.txt',\n 'RBNZ 201611.txt',\n 'RBNZ 201702.txt',\n 'RBNZ 201703.txt',\n 'RBNZ 201705.txt',\n 'RBNZ 201706.txt',\n 'RBNZ 201708.txt',\n 'RBNZ 201709.txt',\n 'RBNZ 201711.txt',\n 'RBNZ 201802.txt',\n 'RBNZ 201803.txt',\n 'RBNZ 201805.txt',\n 'RBNZ 201806.txt',\n 'RBNZ 201808.txt',\n 'RBNZ 201809.txt',\n 'RBNZ 201811.txt',\n 'RBNZ 201902.txt',\n 'RBNZ 201903.txt',\n 'RBNZ 201905.txt',\n 'RBNZ 201906.txt',\n 'RBNZ 201908.txt',\n 'RBNZ 201909.txt',\n 'RBNZ 201911.txt',\n 'RBNZ 202002.txt',\n 'RBNZ 202003.txt',\n 'RBNZ 202005.txt',\n 'RBNZ 202006.txt',\n 'RBNZ 202008.txt',\n 'RBNZ 202009.txt',\n 'RBNZ 202011.txt',\n 'RBNZ 202102.txt',\n 'RBNZ 202104.txt',\n 'RBNZ 202105.txt',\n 'RBNZ 202107.txt',\n 'RBNZ 202108.txt',\n 'RBNZ 202110.txt',\n 'RBNZ 202111.txt',\n 'RBNZ 202202.txt',\n 'RBNZ 202204.txt',\n 'RBNZ 202205.txt',\n 'RBNZ 202207.txt',\n 'RBNZ 202208.txt',\n 'RBNZ 202210.txt']"
     },
     "execution_count": 57,
     "metadata": {},
     "output_type": "execute_result"
    }
   ],
   "source": [
    "os.listdir(r\"D:\\pachong\\RBNZ历史文本\")"
   ],
   "metadata": {
    "collapsed": false,
    "pycharm": {
     "name": "#%%\n"
    }
   }
  },
  {
   "cell_type": "code",
   "execution_count": 58,
   "outputs": [
    {
     "name": "stdout",
     "output_type": "stream",
     "text": [
      "201307\n"
     ]
    }
   ],
   "source": [
    "print(os.listdir(r\"D:\\pachong\\RBNZ历史文本\")[4][5:11])"
   ],
   "metadata": {
    "collapsed": false,
    "pycharm": {
     "name": "#%%\n"
    }
   }
  },
  {
   "cell_type": "code",
   "execution_count": 59,
   "outputs": [],
   "source": [
    "txt_list=[]\n",
    "date_list=[]\n",
    "for i in os.listdir(r\"D:\\pachong\\RBNZ历史文本\"):\n",
    "    with open(\"D:\\pachong\\RBNZ历史文本\\{}\".format(i),encoding=\"utf-8\",mode='r') as txt:\n",
    "        date_list.append(i[5:11])\n",
    "        txt_list.append(txt.read())"
   ],
   "metadata": {
    "collapsed": false,
    "pycharm": {
     "name": "#%%\n"
    }
   }
  },
  {
   "cell_type": "code",
   "execution_count": 60,
   "outputs": [
    {
     "name": "stdout",
     "output_type": "stream",
     "text": [
      "72\n",
      "72\n"
     ]
    }
   ],
   "source": [
    "print(len(date_list))\n",
    "print(len(txt_list))"
   ],
   "metadata": {
    "collapsed": false,
    "pycharm": {
     "name": "#%%\n"
    }
   }
  },
  {
   "cell_type": "code",
   "execution_count": 61,
   "outputs": [],
   "source": [
    "df=pd.DataFrame({\"date\":date_list,\"text\":txt_list})"
   ],
   "metadata": {
    "collapsed": false,
    "pycharm": {
     "name": "#%%\n"
    }
   }
  },
  {
   "cell_type": "code",
   "execution_count": 62,
   "outputs": [
    {
     "data": {
      "text/plain": "     date                                               text\n0  201301  The Reserve Bank today left the Official Cash ...\n1  201303  The Reserve Bank today left the Official Cash ...\n2  201304  The Reserve Bank today left the Official Cash ...\n3  201306  The Reserve Bank today left the Official Cash ...\n4  201307  The Reserve Bank today left the Official Cash ...",
      "text/html": "<div>\n<style scoped>\n    .dataframe tbody tr th:only-of-type {\n        vertical-align: middle;\n    }\n\n    .dataframe tbody tr th {\n        vertical-align: top;\n    }\n\n    .dataframe thead th {\n        text-align: right;\n    }\n</style>\n<table border=\"1\" class=\"dataframe\">\n  <thead>\n    <tr style=\"text-align: right;\">\n      <th></th>\n      <th>date</th>\n      <th>text</th>\n    </tr>\n  </thead>\n  <tbody>\n    <tr>\n      <th>0</th>\n      <td>201301</td>\n      <td>The Reserve Bank today left the Official Cash ...</td>\n    </tr>\n    <tr>\n      <th>1</th>\n      <td>201303</td>\n      <td>The Reserve Bank today left the Official Cash ...</td>\n    </tr>\n    <tr>\n      <th>2</th>\n      <td>201304</td>\n      <td>The Reserve Bank today left the Official Cash ...</td>\n    </tr>\n    <tr>\n      <th>3</th>\n      <td>201306</td>\n      <td>The Reserve Bank today left the Official Cash ...</td>\n    </tr>\n    <tr>\n      <th>4</th>\n      <td>201307</td>\n      <td>The Reserve Bank today left the Official Cash ...</td>\n    </tr>\n  </tbody>\n</table>\n</div>"
     },
     "execution_count": 62,
     "metadata": {},
     "output_type": "execute_result"
    }
   ],
   "source": [
    "df.head()"
   ],
   "metadata": {
    "collapsed": false,
    "pycharm": {
     "name": "#%%\n"
    }
   }
  },
  {
   "cell_type": "code",
   "execution_count": 63,
   "outputs": [],
   "source": [
    "df.to_csv(r\"D:\\pachong\\历史文本csv版本\\rbnz_data.csv\",index=False)"
   ],
   "metadata": {
    "collapsed": false,
    "pycharm": {
     "name": "#%%\n"
    }
   }
  },
  {
   "cell_type": "code",
   "execution_count": null,
   "outputs": [],
   "source": [],
   "metadata": {
    "collapsed": false,
    "pycharm": {
     "name": "#%%\n"
    }
   }
  }
 ],
 "metadata": {
  "kernelspec": {
   "display_name": "Python 3",
   "language": "python",
   "name": "python3"
  },
  "language_info": {
   "codemirror_mode": {
    "name": "ipython",
    "version": 2
   },
   "file_extension": ".py",
   "mimetype": "text/x-python",
   "name": "python",
   "nbconvert_exporter": "python",
   "pygments_lexer": "ipython2",
   "version": "2.7.6"
  }
 },
 "nbformat": 4,
 "nbformat_minor": 0
}